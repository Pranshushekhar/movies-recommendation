{
 "cells": [
  {
   "cell_type": "code",
   "execution_count": 4,
   "metadata": {},
   "outputs": [],
   "source": [
    "import pandas as pd\n",
    "import numpy as np\n",
    "from itertools import combinations \n",
    "import networkx as nx\n",
    "import time"
   ]
  },
  {
   "cell_type": "code",
   "execution_count": 5,
   "metadata": {},
   "outputs": [],
   "source": [
    "title_akas = pd.read_csv('title.akas.tsv', sep='\\t', index_col = 'titleId', usecols=['titleId', 'language','title', 'isOriginalTitle'], low_memory=False)\n",
    "req = (set(title_akas[(title_akas['language']=='en')].index))\n",
    "title_basics = pd.read_csv('title.basics.tsv', sep='\\t', low_memory=False, \n",
    "                           usecols=['tconst','titleType', 'primaryTitle', 'genres'], index_col= 'tconst')\n",
    "\n"
   ]
  },
  {
   "cell_type": "code",
   "execution_count": 6,
   "metadata": {},
   "outputs": [],
   "source": [
    "#Featurize genres\n",
    "node_data = title_basics.reindex(req)\n",
    "node_data['genres'] = node_data['genres'].str.split(',')   #Convert genres to lists\n",
    "node_data.dropna(inplace=True)   #Remove the one row with no data\n",
    "genres_edge = pd.Series(node_data['genres']).apply(frozenset).to_frame(name='genre')\n",
    "for genre in frozenset.union(*genres_edge.genre):\n",
    "    genres_edge[genre] = genres_edge.apply(lambda _: int(genre in _.genre), axis=1)\n"
   ]
  },
  {
   "cell_type": "code",
   "execution_count": 7,
   "metadata": {},
   "outputs": [],
   "source": [
    "#Create Graph and add nodes\n",
    "G = nx.Graph()\n",
    "for index,row in node_data.iterrows():\n",
    "    G.add_node(index, data=row['primaryTitle'])"
   ]
  },
  {
   "cell_type": "code",
   "execution_count": 8,
   "metadata": {},
   "outputs": [
    {
     "name": "stdout",
     "output_type": "stream",
     "text": [
      "Game-Show : 130 : 0.03874778747558594 : 1548989837.7415638\n",
      "Talk-Show : 247 : 0.01789093017578125 : 1548989837.762362\n",
      "Reality-TV : 282 : 0.021636247634887695 : 1548989837.786765\n",
      "Film-Noir : 330 : 0.03308606147766113 : 1548989837.82287\n",
      "News : 382 : 0.0500490665435791 : 1548989837.875744\n",
      "Western : 1036 : 0.3408470153808594 : 1548989838.219768\n",
      "Sport : 1087 : 0.33145594596862793 : 1548989838.553934\n",
      "Musical : 1539 : 0.7358970642089844 : 1548989839.292408\n",
      "Music : 1764 : 1.0137391090393066 : 1548989840.309074\n",
      "Adult : 1768 : 1.1691741943359375 : 1548989841.48095\n",
      "Biography : 2392 : 1.7218470573425293 : 1548989843.2053492\n",
      "Sci-Fi : 2401 : 2.5328261852264404 : 1548989845.741079\n",
      "War : 2667 : 2.1435959339141846 : 1548989847.887209\n",
      "History : 3032 : 3.091870069503784 : 1548989850.981645\n",
      "Mystery : 3424 : 6.921218156814575 : 1548989857.9054852\n",
      "Fantasy : 4117 : 5.544727087020874 : 1548989863.4568372\n",
      "Family : 4258 : 6.326105117797852 : 1548989869.785444\n",
      "Horror : 4533 : 12.289029836654663 : 1548989882.077416\n",
      "Thriller : 5631 : 13.28044605255127 : 1548989895.361418\n",
      "Animation : 7075 : 40.5437970161438 : 1548989935.907817\n",
      "Adventure : 7326 : 45.16924500465393 : 1548989981.096873\n",
      "Crime : 7925 : 51.77916193008423 : 1548990032.891155\n",
      "\\N : 9600 : 1050.4739949703217 : 1548991083.374275\n",
      "Romance : 10265 : 886.9337179660797 : 1548991970.4352791\n"
     ]
    },
    {
     "ename": "KeyboardInterrupt",
     "evalue": "",
     "output_type": "error",
     "traceback": [
      "\u001b[0;31m---------------------------------------------------------------------------\u001b[0m",
      "\u001b[0;31mKeyboardInterrupt\u001b[0m                         Traceback (most recent call last)",
      "\u001b[0;32m<ipython-input-8-77b85fe244d0>\u001b[0m in \u001b[0;36m<module>\u001b[0;34m()\u001b[0m\n\u001b[1;32m     34\u001b[0m     \u001b[0;32mfor\u001b[0m \u001b[0mx\u001b[0m\u001b[0;34m,\u001b[0m\u001b[0my\u001b[0m \u001b[0;32min\u001b[0m \u001b[0mcombinations\u001b[0m\u001b[0;34m(\u001b[0m\u001b[0mgenres_edge\u001b[0m\u001b[0;34m[\u001b[0m\u001b[0mgenres_edge\u001b[0m\u001b[0;34m[\u001b[0m\u001b[0ma\u001b[0m\u001b[0;34m]\u001b[0m\u001b[0;34m==\u001b[0m\u001b[0;36m1\u001b[0m\u001b[0;34m]\u001b[0m\u001b[0;34m.\u001b[0m\u001b[0mindex\u001b[0m\u001b[0;34m,\u001b[0m \u001b[0;36m2\u001b[0m\u001b[0;34m)\u001b[0m\u001b[0;34m:\u001b[0m\u001b[0;34m\u001b[0m\u001b[0m\n\u001b[1;32m     35\u001b[0m         \u001b[0mnum\u001b[0m \u001b[0;34m+=\u001b[0m \u001b[0;36m1\u001b[0m\u001b[0;34m\u001b[0m\u001b[0m\n\u001b[0;32m---> 36\u001b[0;31m         \u001b[0medges\u001b[0m\u001b[0;34m.\u001b[0m\u001b[0madd\u001b[0m\u001b[0;34m(\u001b[0m\u001b[0;34m(\u001b[0m\u001b[0mx\u001b[0m\u001b[0;34m,\u001b[0m\u001b[0my\u001b[0m\u001b[0;34m)\u001b[0m\u001b[0;34m)\u001b[0m\u001b[0;34m\u001b[0m\u001b[0m\n\u001b[0m\u001b[1;32m     37\u001b[0m     \u001b[0mt1\u001b[0m \u001b[0;34m=\u001b[0m \u001b[0mtime\u001b[0m\u001b[0;34m.\u001b[0m\u001b[0mtime\u001b[0m\u001b[0;34m(\u001b[0m\u001b[0;34m)\u001b[0m\u001b[0;34m\u001b[0m\u001b[0m\n\u001b[1;32m     38\u001b[0m     \u001b[0mprint\u001b[0m \u001b[0;34m(\u001b[0m\u001b[0ma\u001b[0m\u001b[0;34m,\u001b[0m \u001b[0;34m\":\"\u001b[0m \u001b[0;34m,\u001b[0m\u001b[0msum\u001b[0m\u001b[0;34m(\u001b[0m\u001b[0mgenres_edge\u001b[0m\u001b[0;34m[\u001b[0m\u001b[0ma\u001b[0m\u001b[0;34m]\u001b[0m\u001b[0;34m)\u001b[0m\u001b[0;34m,\u001b[0m \u001b[0;34m\":\"\u001b[0m\u001b[0;34m,\u001b[0m \u001b[0mt1\u001b[0m\u001b[0;34m-\u001b[0m\u001b[0mt0\u001b[0m\u001b[0;34m,\u001b[0m \u001b[0;34m':'\u001b[0m\u001b[0;34m,\u001b[0m \u001b[0mt1\u001b[0m\u001b[0;34m)\u001b[0m\u001b[0;34m\u001b[0m\u001b[0m\n",
      "\u001b[0;31mKeyboardInterrupt\u001b[0m: "
     ]
    }
   ],
   "source": [
    "genres_for_edges = [ 'Game-Show',\n",
    " 'Talk-Show',\n",
    " 'Reality-TV',\n",
    " 'Film-Noir',\n",
    " 'News',\n",
    " 'Western',\n",
    " 'Sport',\n",
    " 'Musical',\n",
    " 'Music',\n",
    " 'Adult',\n",
    " 'Biography',\n",
    " 'Sci-Fi',\n",
    " 'War',\n",
    " 'History',\n",
    "'Mystery',\n",
    " 'Fantasy',\n",
    " 'Family',\n",
    " 'Horror',\n",
    " 'Thriller',\n",
    " 'Animation',\n",
    " 'Adventure',\n",
    " 'Crime',\n",
    " '\\\\N',\n",
    " 'Romance',\n",
    " 'Action',\n",
    " 'Documentary',\n",
    " 'Short',\n",
    " 'Comedy',\n",
    " 'Drama']\n",
    "num=0\n",
    "edges = set()\n",
    "for a in genres_for_edges:\n",
    "    t0 = time.time()\n",
    "    for x,y in combinations(genres_edge[genres_edge[a]==1].index, 2):\n",
    "        num += 1\n",
    "        edges.add((x,y))\n",
    "    t1 = time.time()\n",
    "    print (a, \":\" ,sum(genres_edge[a]), \":\", t1-t0, ':', t1)\n",
    "    \n",
    "print (len(G.edges))\n",
    "# num_unique_edges = len(edges) #Number of unique edges\n",
    "# print (num_combinations - num_unique_edges)\n",
    "# print (num_unique_edges)\n",
    "a = len(node_data.index)\n",
    "print (a * (a - 1)) #Max number of edges possible in the graph"
   ]
  },
  {
   "cell_type": "code",
   "execution_count": 1,
   "metadata": {
    "scrolled": true
   },
   "outputs": [
    {
     "ename": "NameError",
     "evalue": "name 'genres_edge' is not defined",
     "output_type": "error",
     "traceback": [
      "\u001b[0;31m---------------------------------------------------------------------------\u001b[0m",
      "\u001b[0;31mNameError\u001b[0m                                 Traceback (most recent call last)",
      "\u001b[0;32m<ipython-input-1-fd5836406261>\u001b[0m in \u001b[0;36m<module>\u001b[0;34m()\u001b[0m\n\u001b[0;32m----> 1\u001b[0;31m \u001b[0mgenres_edge\u001b[0m\u001b[0;34m.\u001b[0m\u001b[0mhead\u001b[0m\u001b[0;34m(\u001b[0m\u001b[0;34m)\u001b[0m  \u001b[0;31m#Node data\u001b[0m\u001b[0;34m\u001b[0m\u001b[0m\n\u001b[0m\u001b[1;32m      2\u001b[0m \u001b[0;34m\u001b[0m\u001b[0m\n\u001b[1;32m      3\u001b[0m \u001b[0;31m# for index, row in node_data.iterrows():\u001b[0m\u001b[0;34m\u001b[0m\u001b[0;34m\u001b[0m\u001b[0m\n\u001b[1;32m      4\u001b[0m \u001b[0;34m\u001b[0m\u001b[0m\n",
      "\u001b[0;31mNameError\u001b[0m: name 'genres_edge' is not defined"
     ]
    }
   ],
   "source": [
    "genres_edge.head()  #Node data\n",
    "\n",
    "# for index, row in node_data.iterrows():\n",
    "    "
   ]
  },
  {
   "cell_type": "code",
   "execution_count": 13,
   "metadata": {},
   "outputs": [
    {
     "data": {
      "text/plain": [
       "[]"
      ]
     },
     "execution_count": 13,
     "metadata": {},
     "output_type": "execute_result"
    }
   ],
   "source": [
    "list(edges)[:5] #Edge data"
   ]
  },
  {
   "cell_type": "code",
   "execution_count": 7,
   "metadata": {},
   "outputs": [],
   "source": [
    "#Begin Graph\n",
    "\n",
    "for x in list(edges):\n",
    "    G.add_edge (x[0],x[1])"
   ]
  },
  {
   "cell_type": "code",
   "execution_count": 10,
   "metadata": {},
   "outputs": [
    {
     "data": {
      "text/plain": [
       "2"
      ]
     },
     "execution_count": 10,
     "metadata": {},
     "output_type": "execute_result"
    }
   ],
   "source": [
    "T = nx.Graph()\n",
    "T.clear()\n",
    "T.add_node(1)\n",
    "T.add_node(2)\n",
    "T.add_node(3)\n",
    "T.add_edge(1,2)\n",
    "T.add_edge(1,2)\n",
    "T.add_edge(1,3)\n",
    "len(T.edges)"
   ]
  },
  {
   "cell_type": "code",
   "execution_count": null,
   "metadata": {},
   "outputs": [],
   "source": []
  }
 ],
 "metadata": {
  "kernelspec": {
   "display_name": "Python 3",
   "language": "python",
   "name": "python3"
  },
  "language_info": {
   "codemirror_mode": {
    "name": "ipython",
    "version": 3
   },
   "file_extension": ".py",
   "mimetype": "text/x-python",
   "name": "python",
   "nbconvert_exporter": "python",
   "pygments_lexer": "ipython3",
   "version": "3.6.5"
  }
 },
 "nbformat": 4,
 "nbformat_minor": 2
}
