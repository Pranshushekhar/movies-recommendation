{
 "cells": [
  {
   "cell_type": "code",
   "execution_count": 6,
   "metadata": {},
   "outputs": [],
   "source": [
    "import pandas as pd\n",
    "import numpy as np\n",
    "from itertools import combinations \n",
    "import networkx as nx\n",
    "import time"
   ]
  },
  {
   "cell_type": "code",
   "execution_count": 7,
   "metadata": {},
   "outputs": [],
   "source": [
    "title_akas = pd.read_csv('title.akas.tsv', sep='\\t', index_col = 'titleId', usecols=['titleId', 'language','title', 'isOriginalTitle'], low_memory=False)\n",
    "req = (set(title_akas[(title_akas['language']=='en')].index))\n",
    "title_basics = pd.read_csv('title.basics.tsv', sep='\\t', low_memory=False, \n",
    "                           usecols=['tconst','titleType', 'primaryTitle', 'genres'], index_col= 'tconst')\n",
    "\n"
   ]
  },
  {
   "cell_type": "code",
   "execution_count": 8,
   "metadata": {},
   "outputs": [],
   "source": [
    "#Featurize genres\n",
    "node_data = title_basics.reindex(req)\n",
    "node_data['genres'] = node_data['genres'].str.split(',')   #Convert genres to lists\n",
    "node_data.dropna(inplace=True)   #Remove the one row with no data\n",
    "genres_edge = pd.Series(node_data['genres']).apply(frozenset).to_frame(name='genre')\n",
    "for genre in frozenset.union(*genres_edge.genre):\n",
    "    genres_edge[genre] = genres_edge.apply(lambda _: int(genre in _.genre), axis=1)\n"
   ]
  },
  {
   "cell_type": "code",
   "execution_count": null,
   "metadata": {},
   "outputs": [
    {
     "name": "stdout",
     "output_type": "stream",
     "text": [
      "Mystery : 3424 : 4.6885621547698975\n",
      "Thriller : 5631 : 13.672004699707031\n",
      "Biography : 2392 : 4.525630235671997\n",
      "Talk-Show : 247 : 0.02549290657043457\n",
      "Film-Noir : 330 : 0.04189801216125488\n",
      "\\N : 9600 : 43.965028047561646\n",
      "Music : 1764 : 1.5451488494873047\n",
      "Musical : 1539 : 0.9251368045806885\n",
      "Adventure : 7326 : 56.161131858825684\n",
      "Game-Show : 130 : 0.14443397521972656\n",
      "News : 382 : 0.3527989387512207\n",
      "Western : 1036 : 1.710231065750122\n",
      "Sci-Fi : 2401 : 10.55589509010315\n",
      "Sport : 1087 : 2.410902738571167\n",
      "History : 3032 : 15.853185176849365\n",
      "Fantasy : 4117 : 42.37049126625061\n",
      "Reality-TV : 282 : 0.4117770195007324\n",
      "War : 2667 : 15.459173917770386\n",
      "Family : 4258 : 48.782723903656006\n",
      "Crime : 7925 : 194.31944394111633\n",
      "Adult : 1768 : 20.21605920791626\n",
      "Horror : 4533 : 139.26352381706238\n"
     ]
    }
   ],
   "source": [
    "genres_for_edges = ['Mystery',\n",
    " 'Thriller',\n",
    " 'Biography',\n",
    " 'Talk-Show',\n",
    " 'Film-Noir',\n",
    " '\\\\N',\n",
    " 'Music',\n",
    " 'Musical',\n",
    " 'Adventure',\n",
    " 'Game-Show',\n",
    " 'News',\n",
    " 'Western',\n",
    " 'Sci-Fi',\n",
    " 'Sport',\n",
    " 'History',\n",
    " 'Fantasy',\n",
    " 'Reality-TV',\n",
    " 'War',\n",
    " 'Family',\n",
    " 'Crime',\n",
    " 'Adult',\n",
    " 'Horror',\n",
    " 'Animation']\n",
    "num=0\n",
    "save=0\n",
    "edges=set()\n",
    "for a in genres_for_edges:\n",
    "    t0 = time.time()\n",
    "    for x,y in combinations(genres_edge[genres_edge[a]==1].index, 2):\n",
    "        num += 1\n",
    "        if ((x,y) not in edges):\n",
    "            edges.add((x,y))\n",
    "        else:\n",
    "            save += 1\n",
    "    t1 = time.time()\n",
    "    print (a, \":\" ,sum(genres_edge[a]), \":\", t1-t0)\n",
    "    \n",
    "num_combinations = num #Number of possible combinations explored\n",
    "num_unique_edges = len(edges) #Number of unique edges\n",
    "print (num_combinations - num_unique_edges)\n",
    "print (num_unique_edges)\n",
    "print (\"if (y,x) save \",save)\n",
    "a = len(node_data.index)\n",
    "print (a * (a - 1)) #Max number of edges possible in the graph"
   ]
  },
  {
   "cell_type": "code",
   "execution_count": 5,
   "metadata": {
    "scrolled": true
   },
   "outputs": [
    {
     "data": {
      "text/html": [
       "<div>\n",
       "<style scoped>\n",
       "    .dataframe tbody tr th:only-of-type {\n",
       "        vertical-align: middle;\n",
       "    }\n",
       "\n",
       "    .dataframe tbody tr th {\n",
       "        vertical-align: top;\n",
       "    }\n",
       "\n",
       "    .dataframe thead th {\n",
       "        text-align: right;\n",
       "    }\n",
       "</style>\n",
       "<table border=\"1\" class=\"dataframe\">\n",
       "  <thead>\n",
       "    <tr style=\"text-align: right;\">\n",
       "      <th></th>\n",
       "      <th>titleType</th>\n",
       "      <th>primaryTitle</th>\n",
       "      <th>genres</th>\n",
       "    </tr>\n",
       "    <tr>\n",
       "      <th>tconst</th>\n",
       "      <th></th>\n",
       "      <th></th>\n",
       "      <th></th>\n",
       "    </tr>\n",
       "  </thead>\n",
       "  <tbody>\n",
       "    <tr>\n",
       "      <th>tt0195234</th>\n",
       "      <td>movie</td>\n",
       "      <td>Saving Grace</td>\n",
       "      <td>[Comedy, Crime]</td>\n",
       "    </tr>\n",
       "    <tr>\n",
       "      <th>tt2215289</th>\n",
       "      <td>videoGame</td>\n",
       "      <td>Major Havoc</td>\n",
       "      <td>[Action, Sci-Fi]</td>\n",
       "    </tr>\n",
       "    <tr>\n",
       "      <th>tt0168690</th>\n",
       "      <td>movie</td>\n",
       "      <td>A Free Woman</td>\n",
       "      <td>[Drama]</td>\n",
       "    </tr>\n",
       "    <tr>\n",
       "      <th>tt0366997</th>\n",
       "      <td>movie</td>\n",
       "      <td>Mens' Companion</td>\n",
       "      <td>[\\N]</td>\n",
       "    </tr>\n",
       "    <tr>\n",
       "      <th>tt1068962</th>\n",
       "      <td>movie</td>\n",
       "      <td>The Two Deaths of Quincas Wateryell</td>\n",
       "      <td>[Comedy, Drama]</td>\n",
       "    </tr>\n",
       "  </tbody>\n",
       "</table>\n",
       "</div>"
      ],
      "text/plain": [
       "           titleType                         primaryTitle            genres\n",
       "tconst                                                                     \n",
       "tt0195234      movie                         Saving Grace   [Comedy, Crime]\n",
       "tt2215289  videoGame                          Major Havoc  [Action, Sci-Fi]\n",
       "tt0168690      movie                         A Free Woman           [Drama]\n",
       "tt0366997      movie                      Mens' Companion              [\\N]\n",
       "tt1068962      movie  The Two Deaths of Quincas Wateryell   [Comedy, Drama]"
      ]
     },
     "execution_count": 5,
     "metadata": {},
     "output_type": "execute_result"
    }
   ],
   "source": [
    "node_data.head()  #Node data"
   ]
  },
  {
   "cell_type": "code",
   "execution_count": 6,
   "metadata": {},
   "outputs": [
    {
     "data": {
      "text/plain": [
       "[('tt0040823', 'tt4108044'),\n",
       " ('tt1837492', 'tt0852963'),\n",
       " ('tt0184167', 'tt1415872'),\n",
       " ('tt4247628', 'tt6819596'),\n",
       " ('tt0391502', 'tt1667150')]"
      ]
     },
     "execution_count": 6,
     "metadata": {},
     "output_type": "execute_result"
    }
   ],
   "source": [
    "list(edges)[:5] #Edge data"
   ]
  },
  {
   "cell_type": "code",
   "execution_count": 7,
   "metadata": {},
   "outputs": [],
   "source": [
    "#Begin Graph\n",
    "\n",
    "G = nx.Graph()\n",
    "G.clear()\n",
    "for index,row in node_data.iterrows():\n",
    "    G.add_node(index, data=row['primaryTitle'])\n",
    "for x in list(edges):\n",
    "    G.add_edge (x[0],x[1])"
   ]
  },
  {
   "cell_type": "code",
   "execution_count": 39,
   "metadata": {},
   "outputs": [
    {
     "data": {
      "text/plain": [
       "{'Mystery': 3424,\n",
       " 'Thriller': 5631,\n",
       " 'Biography': 2392,\n",
       " 'Action': 12226,\n",
       " 'Talk-Show': 247,\n",
       " 'Film-Noir': 330,\n",
       " '\\\\N': 9600,\n",
       " 'Music': 1764,\n",
       " 'Musical': 1539,\n",
       " 'Adventure': 7326,\n",
       " 'Drama': 46180,\n",
       " 'Game-Show': 130,\n",
       " 'Documentary': 15096,\n",
       " 'News': 382,\n",
       " 'Short': 18917,\n",
       " 'Western': 1036,\n",
       " 'Sci-Fi': 2401,\n",
       " 'Sport': 1087,\n",
       " 'Romance': 10265,\n",
       " 'History': 3032,\n",
       " 'Fantasy': 4117,\n",
       " 'Reality-TV': 282,\n",
       " 'War': 2667,\n",
       " 'Family': 4258,\n",
       " 'Crime': 7925,\n",
       " 'Comedy': 20218,\n",
       " 'Adult': 1768,\n",
       " 'Horror': 4533,\n",
       " 'Animation': 7075}"
      ]
     },
     "execution_count": 39,
     "metadata": {},
     "output_type": "execute_result"
    }
   ],
   "source": [
    "genre_count = {}\n",
    "for x in genres_edge.columns.values:\n",
    "    genre_count[x] = sum(genres_edge[x])\n",
    "genre_count"
   ]
  },
  {
   "cell_type": "code",
   "execution_count": 27,
   "metadata": {},
   "outputs": [
    {
     "data": {
      "text/plain": [
       "2"
      ]
     },
     "execution_count": 27,
     "metadata": {},
     "output_type": "execute_result"
    }
   ],
   "source": [
    "sum(genres_edge.loc['tt0056014'])"
   ]
  },
  {
   "cell_type": "code",
   "execution_count": null,
   "metadata": {},
   "outputs": [],
   "source": []
  }
 ],
 "metadata": {
  "kernelspec": {
   "display_name": "Python 3",
   "language": "python",
   "name": "python3"
  },
  "language_info": {
   "codemirror_mode": {
    "name": "ipython",
    "version": 3
   },
   "file_extension": ".py",
   "mimetype": "text/x-python",
   "name": "python",
   "nbconvert_exporter": "python",
   "pygments_lexer": "ipython3",
   "version": "3.6.5"
  }
 },
 "nbformat": 4,
 "nbformat_minor": 2
}
