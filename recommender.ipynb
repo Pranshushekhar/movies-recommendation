{
 "cells": [
  {
   "cell_type": "code",
   "execution_count": 2,
   "metadata": {},
   "outputs": [],
   "source": [
    "import pandas as pd\n",
    "import numpy as np\n",
    "from itertools import combinations \n",
    "import networkx as nx\n",
    "import time"
   ]
  },
  {
   "cell_type": "code",
   "execution_count": 3,
   "metadata": {},
   "outputs": [],
   "source": [
    "title_akas = pd.read_csv('title.akas.tsv', sep='\\t', index_col = 'titleId', usecols=['titleId', 'language','title', 'isOriginalTitle'], low_memory=False)\n",
    "req = (set(title_akas[(title_akas['language']=='en')].index))\n",
    "title_basics = pd.read_csv('title.basics.tsv', sep='\\t', low_memory=False, \n",
    "                           usecols=['tconst','titleType', 'primaryTitle', 'genres'], index_col= 'tconst')\n",
    "\n"
   ]
  },
  {
   "cell_type": "code",
   "execution_count": 4,
   "metadata": {},
   "outputs": [],
   "source": [
    "#Featurize genres\n",
    "node_data = title_basics.reindex(req)\n",
    "node_data['genres'] = node_data['genres'].str.split(',')   #Convert genres to lists\n",
    "node_data.dropna(inplace=True)   #Remove the one row with no data\n",
    "genres_edge = pd.Series(node_data['genres']).apply(frozenset).to_frame(name='genre')\n",
    "for genre in frozenset.union(*genres_edge.genre):\n",
    "    genres_edge[genre] = genres_edge.apply(lambda _: int(genre in _.genre), axis=1)\n"
   ]
  },
  {
   "cell_type": "code",
   "execution_count": 5,
   "metadata": {},
   "outputs": [],
   "source": [
    "#Create Graph and add nodes\n",
    "G = nx.Graph()\n",
    "for index,row in node_data.iterrows():\n",
    "    G.add_node(index, data=row['primaryTitle'])"
   ]
  },
  {
   "cell_type": "code",
   "execution_count": 6,
   "metadata": {},
   "outputs": [
    {
     "name": "stdout",
     "output_type": "stream",
     "text": [
      "Game-Show : 130 : 0.03185725212097168 : 1549070901.194689\n",
      "Talk-Show : 247 : 0.017859220504760742 : 1549070901.21523\n",
      "Reality-TV : 282 : 0.0237729549407959 : 1549070901.241808\n",
      "Film-Noir : 330 : 0.034416913986206055 : 1549070901.279688\n",
      "News : 382 : 0.0540318489074707 : 1549070901.336573\n",
      "Western : 1036 : 0.3412618637084961 : 1549070901.680456\n",
      "Sport : 1087 : 0.3640720844268799 : 1549070902.04706\n",
      "Musical : 1539 : 0.8087611198425293 : 1549070902.858763\n",
      "Music : 1764 : 1.0808608531951904 : 1549070903.9424179\n",
      "Adult : 1768 : 1.420867681503296 : 1549070905.36596\n",
      "Biography : 2392 : 1.9522721767425537 : 1549070907.320854\n",
      "Sci-Fi : 2401 : 2.931020975112915 : 1549070910.254596\n",
      "War : 2667 : 2.295253038406372 : 1549070912.552657\n",
      "History : 3032 : 3.429047107696533 : 1549070915.98417\n",
      "Mystery : 3424 : 6.6676061153411865 : 1549070922.6547441\n",
      "Fantasy : 4117 : 6.073134899139404 : 1549070928.7346718\n",
      "Family : 4258 : 6.918212175369263 : 1549070935.6558\n",
      "Horror : 4533 : 13.90179705619812 : 1549070949.560142\n",
      "Thriller : 5631 : 13.464340209960938 : 1549070963.0310762\n",
      "Animation : 7075 : 49.83889722824097 : 1549071012.8734221\n",
      "Adventure : 7326 : 89.68052315711975 : 1549071102.568885\n",
      "Crime : 7925 : 122.0463318824768 : 1549071224.627081\n",
      "\\N : 9600 : 1209.9389770030975 : 1549072434.587178\n",
      "Romance : 10265 : 796.9543349742889 : 1549073231.558049\n",
      "0\n",
      "13135337490\n"
     ]
    }
   ],
   "source": [
    "genres_for_edges = [ 'Game-Show',\n",
    " 'Talk-Show',\n",
    " 'Reality-TV',\n",
    " 'Film-Noir',\n",
    " 'News',\n",
    " 'Western',\n",
    " 'Sport',\n",
    " 'Musical',\n",
    " 'Music',\n",
    " 'Adult',\n",
    " 'Biography',\n",
    " 'Sci-Fi',\n",
    " 'War',\n",
    " 'History',\n",
    "'Mystery',\n",
    " 'Fantasy',\n",
    " 'Family',\n",
    " 'Horror',\n",
    " 'Thriller',\n",
    " 'Animation',\n",
    " 'Adventure',\n",
    " 'Crime',\n",
    " '\\\\N',\n",
    " 'Romance']\n",
    "num=0\n",
    "edges = set()\n",
    "for a in genres_for_edges:\n",
    "    t0 = time.time()\n",
    "    for x,y in combinations(genres_edge[genres_edge[a]==1].index, 2):\n",
    "        num += 1\n",
    "        edges.add((x,y))\n",
    "    t1 = time.time()\n",
    "    print (a, \":\" ,sum(genres_edge[a]), \":\", t1-t0, ':', t1)\n",
    "    \n",
    "print (len(G.edges))\n",
    "# num_unique_edges = len(edges) #Number of unique edges\n",
    "# print (num_combinations - num_unique_edges)\n",
    "# print (num_unique_edges)\n",
    "a = len(node_data.index)\n",
    "print (a * (a - 1)) #Max number of edges possible in the graph"
   ]
  },
  {
   "cell_type": "code",
   "execution_count": 7,
   "metadata": {
    "scrolled": true
   },
   "outputs": [
    {
     "data": {
      "text/plain": [
       "245374025"
      ]
     },
     "execution_count": 7,
     "metadata": {},
     "output_type": "execute_result"
    }
   ],
   "source": [
    "len(edges)\n",
    "# for index, row in node_data.iterrows():\n",
    "    "
   ]
  },
  {
   "cell_type": "code",
   "execution_count": 8,
   "metadata": {},
   "outputs": [
    {
     "ename": "KeyboardInterrupt",
     "evalue": "",
     "output_type": "error",
     "traceback": [
      "\u001b[0;31m---------------------------------------------------------------------------\u001b[0m",
      "\u001b[0;31mKeyboardInterrupt\u001b[0m                         Traceback (most recent call last)",
      "\u001b[0;32m<ipython-input-8-75f1b18338f6>\u001b[0m in \u001b[0;36m<module>\u001b[0;34m()\u001b[0m\n\u001b[1;32m      7\u001b[0m     \u001b[0;32mfor\u001b[0m \u001b[0mx\u001b[0m\u001b[0;34m,\u001b[0m\u001b[0my\u001b[0m \u001b[0;32min\u001b[0m \u001b[0mcombinations\u001b[0m\u001b[0;34m(\u001b[0m\u001b[0mgenres_edge\u001b[0m\u001b[0;34m[\u001b[0m\u001b[0mgenres_edge\u001b[0m\u001b[0;34m[\u001b[0m\u001b[0ma\u001b[0m\u001b[0;34m]\u001b[0m\u001b[0;34m==\u001b[0m\u001b[0;36m1\u001b[0m\u001b[0;34m]\u001b[0m\u001b[0;34m.\u001b[0m\u001b[0mindex\u001b[0m\u001b[0;34m,\u001b[0m \u001b[0;36m2\u001b[0m\u001b[0;34m)\u001b[0m\u001b[0;34m:\u001b[0m\u001b[0;34m\u001b[0m\u001b[0m\n\u001b[1;32m      8\u001b[0m         \u001b[0mnum\u001b[0m \u001b[0;34m+=\u001b[0m \u001b[0;36m1\u001b[0m\u001b[0;34m\u001b[0m\u001b[0m\n\u001b[0;32m----> 9\u001b[0;31m         \u001b[0medges\u001b[0m\u001b[0;34m.\u001b[0m\u001b[0madd\u001b[0m\u001b[0;34m(\u001b[0m\u001b[0;34m(\u001b[0m\u001b[0mx\u001b[0m\u001b[0;34m,\u001b[0m\u001b[0my\u001b[0m\u001b[0;34m)\u001b[0m\u001b[0;34m)\u001b[0m\u001b[0;34m\u001b[0m\u001b[0m\n\u001b[0m\u001b[1;32m     10\u001b[0m     \u001b[0mt1\u001b[0m \u001b[0;34m=\u001b[0m \u001b[0mtime\u001b[0m\u001b[0;34m.\u001b[0m\u001b[0mtime\u001b[0m\u001b[0;34m(\u001b[0m\u001b[0;34m)\u001b[0m\u001b[0;34m\u001b[0m\u001b[0m\n\u001b[1;32m     11\u001b[0m     \u001b[0mprint\u001b[0m \u001b[0;34m(\u001b[0m\u001b[0ma\u001b[0m\u001b[0;34m,\u001b[0m \u001b[0;34m\":\"\u001b[0m \u001b[0;34m,\u001b[0m\u001b[0msum\u001b[0m\u001b[0;34m(\u001b[0m\u001b[0mgenres_edge\u001b[0m\u001b[0;34m[\u001b[0m\u001b[0ma\u001b[0m\u001b[0;34m]\u001b[0m\u001b[0;34m)\u001b[0m\u001b[0;34m,\u001b[0m \u001b[0;34m\":\"\u001b[0m\u001b[0;34m,\u001b[0m \u001b[0mt1\u001b[0m\u001b[0;34m-\u001b[0m\u001b[0mt0\u001b[0m\u001b[0;34m,\u001b[0m \u001b[0;34m':'\u001b[0m\u001b[0;34m,\u001b[0m \u001b[0mt1\u001b[0m\u001b[0;34m)\u001b[0m\u001b[0;34m\u001b[0m\u001b[0m\n",
      "\u001b[0;31mKeyboardInterrupt\u001b[0m: "
     ]
    }
   ],
   "source": [
    "genres_for_edges = [  'Action',\n",
    " 'Documentary',\n",
    " 'Short']\n",
    "num=0\n",
    "for a in genres_for_edges:\n",
    "    t0 = time.time()\n",
    "    for x,y in combinations(genres_edge[genres_edge[a]==1].index, 2):\n",
    "        num += 1\n",
    "        edges.add((x,y))\n",
    "    t1 = time.time()\n",
    "    print (a, \":\" ,sum(genres_edge[a]), \":\", t1-t0, ':', t1)\n"
   ]
  },
  {
   "cell_type": "code",
   "execution_count": 7,
   "metadata": {},
   "outputs": [],
   "source": [
    "#Begin Graph\n",
    "\n",
    "for x in list(edges):\n",
    "    G.add_edge (x[0],x[1])"
   ]
  },
  {
   "cell_type": "code",
   "execution_count": 10,
   "metadata": {},
   "outputs": [
    {
     "data": {
      "text/plain": [
       "2"
      ]
     },
     "execution_count": 10,
     "metadata": {},
     "output_type": "execute_result"
    }
   ],
   "source": [
    "T = nx.Graph()\n",
    "T.clear()\n",
    "T.add_node(1)\n",
    "T.add_node(2)\n",
    "T.add_node(3)\n",
    "T.add_edge(1,2)\n",
    "T.add_edge(1,2)\n",
    "T.add_edge(1,3)\n",
    "len(T.edges)"
   ]
  },
  {
   "cell_type": "code",
   "execution_count": null,
   "metadata": {},
   "outputs": [],
   "source": []
  }
 ],
 "metadata": {
  "kernelspec": {
   "display_name": "Python 3",
   "language": "python",
   "name": "python3"
  },
  "language_info": {
   "codemirror_mode": {
    "name": "ipython",
    "version": 3
   },
   "file_extension": ".py",
   "mimetype": "text/x-python",
   "name": "python",
   "nbconvert_exporter": "python",
   "pygments_lexer": "ipython3",
   "version": "3.6.5"
  }
 },
 "nbformat": 4,
 "nbformat_minor": 2
}
