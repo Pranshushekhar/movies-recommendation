{
 "cells": [
  {
   "cell_type": "code",
   "execution_count": 151,
   "metadata": {},
   "outputs": [],
   "source": [
    "import pandas as pd\n",
    "import numpy as np\n",
    "from itertools import combinations \n",
    "import networkx as nx\n",
    "import nxviz as nv"
   ]
  },
  {
   "cell_type": "code",
   "execution_count": 2,
   "metadata": {},
   "outputs": [],
   "source": [
    "title_akas = pd.read_csv('title.akas.tsv', sep='\\t', index_col = 'titleId', usecols=['titleId', 'language','title', 'isOriginalTitle'], low_memory=False)\n",
    "req = (set(title_akas[(title_akas['language']=='en')].index))\n",
    "title_basics = pd.read_csv('title.basics.tsv', sep='\\t', low_memory=False, \n",
    "                           usecols=['tconst','titleType', 'primaryTitle', 'genres'], index_col= 'tconst')\n",
    "\n"
   ]
  },
  {
   "cell_type": "code",
   "execution_count": 3,
   "metadata": {},
   "outputs": [],
   "source": [
    "#Featurize genres\n",
    "node_data = title_basics.reindex(req)\n",
    "node_data['genres'] = node_data['genres'].str.split(',')   #Convert genres to lists\n",
    "node_data.dropna(inplace=True)   #Remove the one row with no data\n",
    "genres_edge = pd.Series(node_data['genres']).apply(frozenset).to_frame(name='genre')\n",
    "for genre in frozenset.union(*genres_edge.genre):\n",
    "    genres_edge[genre] = genres_edge.apply(lambda _: int(genre in _.genre), axis=1)"
   ]
  },
  {
   "cell_type": "code",
   "execution_count": 78,
   "metadata": {},
   "outputs": [
    {
     "name": "stdout",
     "output_type": "stream",
     "text": [
      "Sci-Fi - Movie Count:  2401\n",
      "Mystery - Movie Count:  3424\n",
      "9180\n",
      "8732196\n",
      "13135337490\n"
     ]
    }
   ],
   "source": [
    "genres_for_edges = ['Sci-Fi', 'Mystery']\n",
    "num=0\n",
    "edges=set()\n",
    "for x in genres_for_edges:\n",
    "    print (x, \"- Movie Count: \" ,sum(genres_edge[x]))\n",
    "    for x,y in combinations(genres_edge[genres_edge[x]==1].index, 2):\n",
    "        num += 1\n",
    "        edges.add((x,y))\n",
    "\n",
    "num_combinations = num #Number of possible combinations explored\n",
    "num_unique_edges = len(edges) #Number of unique edges\n",
    "print (num_combinations - num_unique_edges)\n",
    "print (num_unique_edges)\n",
    "a = len(node_data.index)\n",
    "print (a * (a - 1)) #Max number of edges possible in the graph"
   ]
  },
  {
   "cell_type": "code",
   "execution_count": 140,
   "metadata": {
    "scrolled": true
   },
   "outputs": [
    {
     "data": {
      "text/html": [
       "<div>\n",
       "<style scoped>\n",
       "    .dataframe tbody tr th:only-of-type {\n",
       "        vertical-align: middle;\n",
       "    }\n",
       "\n",
       "    .dataframe tbody tr th {\n",
       "        vertical-align: top;\n",
       "    }\n",
       "\n",
       "    .dataframe thead th {\n",
       "        text-align: right;\n",
       "    }\n",
       "</style>\n",
       "<table border=\"1\" class=\"dataframe\">\n",
       "  <thead>\n",
       "    <tr style=\"text-align: right;\">\n",
       "      <th></th>\n",
       "      <th>titleType</th>\n",
       "      <th>primaryTitle</th>\n",
       "      <th>genres</th>\n",
       "    </tr>\n",
       "    <tr>\n",
       "      <th>tconst</th>\n",
       "      <th></th>\n",
       "      <th></th>\n",
       "      <th></th>\n",
       "    </tr>\n",
       "  </thead>\n",
       "  <tbody>\n",
       "    <tr>\n",
       "      <th>tt0817928</th>\n",
       "      <td>movie</td>\n",
       "      <td>Laa-thaa-phii</td>\n",
       "      <td>[Horror]</td>\n",
       "    </tr>\n",
       "    <tr>\n",
       "      <th>tt0095493</th>\n",
       "      <td>movie</td>\n",
       "      <td>Last Platoon</td>\n",
       "      <td>[Action, War]</td>\n",
       "    </tr>\n",
       "    <tr>\n",
       "      <th>tt0345124</th>\n",
       "      <td>movie</td>\n",
       "      <td>The Sorrowful River</td>\n",
       "      <td>[Drama]</td>\n",
       "    </tr>\n",
       "    <tr>\n",
       "      <th>tt1555385</th>\n",
       "      <td>short</td>\n",
       "      <td>C@ught in the Net</td>\n",
       "      <td>[Drama, Short]</td>\n",
       "    </tr>\n",
       "    <tr>\n",
       "      <th>tt0067547</th>\n",
       "      <td>movie</td>\n",
       "      <td>Memory</td>\n",
       "      <td>[Documentary, War]</td>\n",
       "    </tr>\n",
       "  </tbody>\n",
       "</table>\n",
       "</div>"
      ],
      "text/plain": [
       "          titleType         primaryTitle              genres\n",
       "tconst                                                      \n",
       "tt0817928     movie        Laa-thaa-phii            [Horror]\n",
       "tt0095493     movie         Last Platoon       [Action, War]\n",
       "tt0345124     movie  The Sorrowful River             [Drama]\n",
       "tt1555385     short    C@ught in the Net      [Drama, Short]\n",
       "tt0067547     movie               Memory  [Documentary, War]"
      ]
     },
     "execution_count": 140,
     "metadata": {},
     "output_type": "execute_result"
    }
   ],
   "source": [
    "node_data.head()  #Node data"
   ]
  },
  {
   "cell_type": "code",
   "execution_count": 84,
   "metadata": {},
   "outputs": [
    {
     "data": {
      "text/plain": [
       "[('tt0262614', 'tt0245013'),\n",
       " ('tt0334347', 'tt0075462'),\n",
       " ('tt1160629', 'tt4985818'),\n",
       " ('tt5626536', 'tt0174975'),\n",
       " ('tt0093890', 'tt5564148')]"
      ]
     },
     "execution_count": 84,
     "metadata": {},
     "output_type": "execute_result"
    }
   ],
   "source": [
    "list(edges)[:5] #Edge data"
   ]
  },
  {
   "cell_type": "code",
   "execution_count": 175,
   "metadata": {},
   "outputs": [],
   "source": [
    "#Begin Graph\n",
    "\n",
    "G = nx.Graph()\n",
    "G.clear()\n",
    "for index,row in node_data.iterrows():\n",
    "    G.add_node(index, data=row['primaryTitle'])\n",
    "for x in list(edges):\n",
    "    G.add_edge (x[0],x[1])"
   ]
  },
  {
   "cell_type": "code",
   "execution_count": null,
   "metadata": {},
   "outputs": [],
   "source": []
  }
 ],
 "metadata": {
  "kernelspec": {
   "display_name": "Python 3",
   "language": "python",
   "name": "python3"
  },
  "language_info": {
   "codemirror_mode": {
    "name": "ipython",
    "version": 3
   },
   "file_extension": ".py",
   "mimetype": "text/x-python",
   "name": "python",
   "nbconvert_exporter": "python",
   "pygments_lexer": "ipython3",
   "version": "3.6.5"
  }
 },
 "nbformat": 4,
 "nbformat_minor": 2
}
